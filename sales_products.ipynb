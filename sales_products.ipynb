{
  "nbformat": 4,
  "nbformat_minor": 0,
  "metadata": {
    "colab": {
      "provenance": [],
      "authorship_tag": "ABX9TyNYDnkGljQWu0ZNET2ihmQ/",
      "include_colab_link": true
    },
    "kernelspec": {
      "name": "python3",
      "display_name": "Python 3"
    },
    "language_info": {
      "name": "python"
    }
  },
  "cells": [
    {
      "cell_type": "markdown",
      "metadata": {
        "id": "view-in-github",
        "colab_type": "text"
      },
      "source": [
        "<a href=\"https://colab.research.google.com/github/jerom19/sales-data/blob/main/sales_products.ipynb\" target=\"_parent\"><img src=\"https://colab.research.google.com/assets/colab-badge.svg\" alt=\"Open In Colab\"/></a>"
      ]
    },
    {
      "cell_type": "markdown",
      "source": [
        "\n",
        "\n",
        "GETTING KNOW ABOUT DATASET\n"
      ],
      "metadata": {
        "id": "Nra4pceBFn7a"
      }
    },
    {
      "cell_type": "markdown",
      "source": [
        "IMPORT DATASET"
      ],
      "metadata": {
        "id": "3eaIA_qWGVrx"
      }
    },
    {
      "cell_type": "code",
      "execution_count": null,
      "metadata": {
        "id": "y9r8CBZx_pSK"
      },
      "outputs": [],
      "source": [
        "import pandas as pd\n",
        "import matplotlib.pyplot as plt\n",
        "%matplotlib inline\n",
        "import seaborn as sns\n",
        "import numpy as np"
      ]
    },
    {
      "cell_type": "markdown",
      "source": [
        "IMPORT DATASET\n"
      ],
      "metadata": {
        "id": "ejTSHQEBGcDl"
      }
    },
    {
      "cell_type": "code",
      "source": [
        "sales=pd.read_excel('/content/Data Analyst Task (4).xls')"
      ],
      "metadata": {
        "id": "DYnkseyYGKgo"
      },
      "execution_count": null,
      "outputs": []
    },
    {
      "cell_type": "code",
      "source": [
        "sales.head()"
      ],
      "metadata": {
        "colab": {
          "base_uri": "https://localhost:8080/",
          "height": 250
        },
        "id": "ngvAtxSyHz5D",
        "outputId": "d2de8703-1514-4e8b-f616-5adf43433106"
      },
      "execution_count": null,
      "outputs": [
        {
          "output_type": "execute_result",
          "data": {
            "text/plain": [
              "  User ID Product Code Payment Status Coupon code Lead Registered Time  \\\n",
              "0   user1     Product1      Initiated         NaN  2022-08-01 04:55:00   \n",
              "1   user2     Product2      Initiated         NaN  2022-08-01 04:46:00   \n",
              "2   user4     Product3      Initiated         NaN  2022-08-01 03:21:00   \n",
              "3   user6     Product3      Initiated         NaN  2022-08-01 00:56:00   \n",
              "4   user8     Product4      Initiated         NaN  2022-08-01 00:46:00   \n",
              "\n",
              "  Sales Date  Source  Product Amount with GST Payment Mode Currency  Code  \\\n",
              "0 2022-07-31  Direct                   3999.0          NaN            INR   \n",
              "1 2022-07-31  Direct                    999.0          NaN            INR   \n",
              "2 2022-07-31  Direct                   1999.0          NaN            INR   \n",
              "3 2022-07-31  Direct                   1999.0          NaN            INR   \n",
              "4 2022-07-31  Direct                   2022.0          NaN            INR   \n",
              "\n",
              "  Transaction Bank  \n",
              "0              NaN  \n",
              "1              NaN  \n",
              "2              NaN  \n",
              "3              NaN  \n",
              "4              NaN  "
            ],
            "text/html": [
              "\n",
              "  <div id=\"df-8caac492-1882-4f47-b0bd-2ea6e211f9fb\">\n",
              "    <div class=\"colab-df-container\">\n",
              "      <div>\n",
              "<style scoped>\n",
              "    .dataframe tbody tr th:only-of-type {\n",
              "        vertical-align: middle;\n",
              "    }\n",
              "\n",
              "    .dataframe tbody tr th {\n",
              "        vertical-align: top;\n",
              "    }\n",
              "\n",
              "    .dataframe thead th {\n",
              "        text-align: right;\n",
              "    }\n",
              "</style>\n",
              "<table border=\"1\" class=\"dataframe\">\n",
              "  <thead>\n",
              "    <tr style=\"text-align: right;\">\n",
              "      <th></th>\n",
              "      <th>User ID</th>\n",
              "      <th>Product Code</th>\n",
              "      <th>Payment Status</th>\n",
              "      <th>Coupon code</th>\n",
              "      <th>Lead Registered Time</th>\n",
              "      <th>Sales Date</th>\n",
              "      <th>Source</th>\n",
              "      <th>Product Amount with GST</th>\n",
              "      <th>Payment Mode</th>\n",
              "      <th>Currency  Code</th>\n",
              "      <th>Transaction Bank</th>\n",
              "    </tr>\n",
              "  </thead>\n",
              "  <tbody>\n",
              "    <tr>\n",
              "      <th>0</th>\n",
              "      <td>user1</td>\n",
              "      <td>Product1</td>\n",
              "      <td>Initiated</td>\n",
              "      <td>NaN</td>\n",
              "      <td>2022-08-01 04:55:00</td>\n",
              "      <td>2022-07-31</td>\n",
              "      <td>Direct</td>\n",
              "      <td>3999.0</td>\n",
              "      <td>NaN</td>\n",
              "      <td>INR</td>\n",
              "      <td>NaN</td>\n",
              "    </tr>\n",
              "    <tr>\n",
              "      <th>1</th>\n",
              "      <td>user2</td>\n",
              "      <td>Product2</td>\n",
              "      <td>Initiated</td>\n",
              "      <td>NaN</td>\n",
              "      <td>2022-08-01 04:46:00</td>\n",
              "      <td>2022-07-31</td>\n",
              "      <td>Direct</td>\n",
              "      <td>999.0</td>\n",
              "      <td>NaN</td>\n",
              "      <td>INR</td>\n",
              "      <td>NaN</td>\n",
              "    </tr>\n",
              "    <tr>\n",
              "      <th>2</th>\n",
              "      <td>user4</td>\n",
              "      <td>Product3</td>\n",
              "      <td>Initiated</td>\n",
              "      <td>NaN</td>\n",
              "      <td>2022-08-01 03:21:00</td>\n",
              "      <td>2022-07-31</td>\n",
              "      <td>Direct</td>\n",
              "      <td>1999.0</td>\n",
              "      <td>NaN</td>\n",
              "      <td>INR</td>\n",
              "      <td>NaN</td>\n",
              "    </tr>\n",
              "    <tr>\n",
              "      <th>3</th>\n",
              "      <td>user6</td>\n",
              "      <td>Product3</td>\n",
              "      <td>Initiated</td>\n",
              "      <td>NaN</td>\n",
              "      <td>2022-08-01 00:56:00</td>\n",
              "      <td>2022-07-31</td>\n",
              "      <td>Direct</td>\n",
              "      <td>1999.0</td>\n",
              "      <td>NaN</td>\n",
              "      <td>INR</td>\n",
              "      <td>NaN</td>\n",
              "    </tr>\n",
              "    <tr>\n",
              "      <th>4</th>\n",
              "      <td>user8</td>\n",
              "      <td>Product4</td>\n",
              "      <td>Initiated</td>\n",
              "      <td>NaN</td>\n",
              "      <td>2022-08-01 00:46:00</td>\n",
              "      <td>2022-07-31</td>\n",
              "      <td>Direct</td>\n",
              "      <td>2022.0</td>\n",
              "      <td>NaN</td>\n",
              "      <td>INR</td>\n",
              "      <td>NaN</td>\n",
              "    </tr>\n",
              "  </tbody>\n",
              "</table>\n",
              "</div>\n",
              "      <button class=\"colab-df-convert\" onclick=\"convertToInteractive('df-8caac492-1882-4f47-b0bd-2ea6e211f9fb')\"\n",
              "              title=\"Convert this dataframe to an interactive table.\"\n",
              "              style=\"display:none;\">\n",
              "        \n",
              "  <svg xmlns=\"http://www.w3.org/2000/svg\" height=\"24px\"viewBox=\"0 0 24 24\"\n",
              "       width=\"24px\">\n",
              "    <path d=\"M0 0h24v24H0V0z\" fill=\"none\"/>\n",
              "    <path d=\"M18.56 5.44l.94 2.06.94-2.06 2.06-.94-2.06-.94-.94-2.06-.94 2.06-2.06.94zm-11 1L8.5 8.5l.94-2.06 2.06-.94-2.06-.94L8.5 2.5l-.94 2.06-2.06.94zm10 10l.94 2.06.94-2.06 2.06-.94-2.06-.94-.94-2.06-.94 2.06-2.06.94z\"/><path d=\"M17.41 7.96l-1.37-1.37c-.4-.4-.92-.59-1.43-.59-.52 0-1.04.2-1.43.59L10.3 9.45l-7.72 7.72c-.78.78-.78 2.05 0 2.83L4 21.41c.39.39.9.59 1.41.59.51 0 1.02-.2 1.41-.59l7.78-7.78 2.81-2.81c.8-.78.8-2.07 0-2.86zM5.41 20L4 18.59l7.72-7.72 1.47 1.35L5.41 20z\"/>\n",
              "  </svg>\n",
              "      </button>\n",
              "      \n",
              "  <style>\n",
              "    .colab-df-container {\n",
              "      display:flex;\n",
              "      flex-wrap:wrap;\n",
              "      gap: 12px;\n",
              "    }\n",
              "\n",
              "    .colab-df-convert {\n",
              "      background-color: #E8F0FE;\n",
              "      border: none;\n",
              "      border-radius: 50%;\n",
              "      cursor: pointer;\n",
              "      display: none;\n",
              "      fill: #1967D2;\n",
              "      height: 32px;\n",
              "      padding: 0 0 0 0;\n",
              "      width: 32px;\n",
              "    }\n",
              "\n",
              "    .colab-df-convert:hover {\n",
              "      background-color: #E2EBFA;\n",
              "      box-shadow: 0px 1px 2px rgba(60, 64, 67, 0.3), 0px 1px 3px 1px rgba(60, 64, 67, 0.15);\n",
              "      fill: #174EA6;\n",
              "    }\n",
              "\n",
              "    [theme=dark] .colab-df-convert {\n",
              "      background-color: #3B4455;\n",
              "      fill: #D2E3FC;\n",
              "    }\n",
              "\n",
              "    [theme=dark] .colab-df-convert:hover {\n",
              "      background-color: #434B5C;\n",
              "      box-shadow: 0px 1px 3px 1px rgba(0, 0, 0, 0.15);\n",
              "      filter: drop-shadow(0px 1px 2px rgba(0, 0, 0, 0.3));\n",
              "      fill: #FFFFFF;\n",
              "    }\n",
              "  </style>\n",
              "\n",
              "      <script>\n",
              "        const buttonEl =\n",
              "          document.querySelector('#df-8caac492-1882-4f47-b0bd-2ea6e211f9fb button.colab-df-convert');\n",
              "        buttonEl.style.display =\n",
              "          google.colab.kernel.accessAllowed ? 'block' : 'none';\n",
              "\n",
              "        async function convertToInteractive(key) {\n",
              "          const element = document.querySelector('#df-8caac492-1882-4f47-b0bd-2ea6e211f9fb');\n",
              "          const dataTable =\n",
              "            await google.colab.kernel.invokeFunction('convertToInteractive',\n",
              "                                                     [key], {});\n",
              "          if (!dataTable) return;\n",
              "\n",
              "          const docLinkHtml = 'Like what you see? Visit the ' +\n",
              "            '<a target=\"_blank\" href=https://colab.research.google.com/notebooks/data_table.ipynb>data table notebook</a>'\n",
              "            + ' to learn more about interactive tables.';\n",
              "          element.innerHTML = '';\n",
              "          dataTable['output_type'] = 'display_data';\n",
              "          await google.colab.output.renderOutput(dataTable, element);\n",
              "          const docLink = document.createElement('div');\n",
              "          docLink.innerHTML = docLinkHtml;\n",
              "          element.appendChild(docLink);\n",
              "        }\n",
              "      </script>\n",
              "    </div>\n",
              "  </div>\n",
              "  "
            ]
          },
          "metadata": {},
          "execution_count": 9
        }
      ]
    },
    {
      "cell_type": "code",
      "source": [
        "sales.tail()"
      ],
      "metadata": {
        "colab": {
          "base_uri": "https://localhost:8080/",
          "height": 268
        },
        "id": "yt7sxEFAH2gY",
        "outputId": "ec12a398-fa42-4dca-8b69-ae425dea31b6"
      },
      "execution_count": null,
      "outputs": [
        {
          "output_type": "execute_result",
          "data": {
            "text/plain": [
              "        User ID Product Code Payment Status Coupon code Lead Registered Time  \\\n",
              "9509   user7253   Product105           paid    Coupon94  2022-06-01 14:46:00   \n",
              "9510   user7253   Product105           paid         NaN  2022-06-01 12:36:00   \n",
              "9511   user7253   Product105           paid         NaN  2022-06-01 12:31:00   \n",
              "9512  user10657     Product2           paid         NaN  2022-06-01 07:20:00   \n",
              "9513  user10658    Product10         refund         NaN  2022-05-28 06:21:00   \n",
              "\n",
              "     Sales Date  Source  Product Amount with GST Payment Mode Currency  Code  \\\n",
              "9509 2022-06-01  Direct                     7.92         card            INR   \n",
              "9510 2022-06-01  Direct                     8.10         card            INR   \n",
              "9511 2022-06-01  Direct                     7.92         card            INR   \n",
              "9512 2022-06-01  Direct                   999.00     paylater            INR   \n",
              "9513 2022-06-21  Direct                   999.00     paylater            INR   \n",
              "\n",
              "     Transaction Bank  \n",
              "9509              NaN  \n",
              "9510              NaN  \n",
              "9511              NaN  \n",
              "9512              NaN  \n",
              "9513              NaN  "
            ],
            "text/html": [
              "\n",
              "  <div id=\"df-d27883cd-1c97-4d7c-9d95-0d0aab4fce91\">\n",
              "    <div class=\"colab-df-container\">\n",
              "      <div>\n",
              "<style scoped>\n",
              "    .dataframe tbody tr th:only-of-type {\n",
              "        vertical-align: middle;\n",
              "    }\n",
              "\n",
              "    .dataframe tbody tr th {\n",
              "        vertical-align: top;\n",
              "    }\n",
              "\n",
              "    .dataframe thead th {\n",
              "        text-align: right;\n",
              "    }\n",
              "</style>\n",
              "<table border=\"1\" class=\"dataframe\">\n",
              "  <thead>\n",
              "    <tr style=\"text-align: right;\">\n",
              "      <th></th>\n",
              "      <th>User ID</th>\n",
              "      <th>Product Code</th>\n",
              "      <th>Payment Status</th>\n",
              "      <th>Coupon code</th>\n",
              "      <th>Lead Registered Time</th>\n",
              "      <th>Sales Date</th>\n",
              "      <th>Source</th>\n",
              "      <th>Product Amount with GST</th>\n",
              "      <th>Payment Mode</th>\n",
              "      <th>Currency  Code</th>\n",
              "      <th>Transaction Bank</th>\n",
              "    </tr>\n",
              "  </thead>\n",
              "  <tbody>\n",
              "    <tr>\n",
              "      <th>9509</th>\n",
              "      <td>user7253</td>\n",
              "      <td>Product105</td>\n",
              "      <td>paid</td>\n",
              "      <td>Coupon94</td>\n",
              "      <td>2022-06-01 14:46:00</td>\n",
              "      <td>2022-06-01</td>\n",
              "      <td>Direct</td>\n",
              "      <td>7.92</td>\n",
              "      <td>card</td>\n",
              "      <td>INR</td>\n",
              "      <td>NaN</td>\n",
              "    </tr>\n",
              "    <tr>\n",
              "      <th>9510</th>\n",
              "      <td>user7253</td>\n",
              "      <td>Product105</td>\n",
              "      <td>paid</td>\n",
              "      <td>NaN</td>\n",
              "      <td>2022-06-01 12:36:00</td>\n",
              "      <td>2022-06-01</td>\n",
              "      <td>Direct</td>\n",
              "      <td>8.10</td>\n",
              "      <td>card</td>\n",
              "      <td>INR</td>\n",
              "      <td>NaN</td>\n",
              "    </tr>\n",
              "    <tr>\n",
              "      <th>9511</th>\n",
              "      <td>user7253</td>\n",
              "      <td>Product105</td>\n",
              "      <td>paid</td>\n",
              "      <td>NaN</td>\n",
              "      <td>2022-06-01 12:31:00</td>\n",
              "      <td>2022-06-01</td>\n",
              "      <td>Direct</td>\n",
              "      <td>7.92</td>\n",
              "      <td>card</td>\n",
              "      <td>INR</td>\n",
              "      <td>NaN</td>\n",
              "    </tr>\n",
              "    <tr>\n",
              "      <th>9512</th>\n",
              "      <td>user10657</td>\n",
              "      <td>Product2</td>\n",
              "      <td>paid</td>\n",
              "      <td>NaN</td>\n",
              "      <td>2022-06-01 07:20:00</td>\n",
              "      <td>2022-06-01</td>\n",
              "      <td>Direct</td>\n",
              "      <td>999.00</td>\n",
              "      <td>paylater</td>\n",
              "      <td>INR</td>\n",
              "      <td>NaN</td>\n",
              "    </tr>\n",
              "    <tr>\n",
              "      <th>9513</th>\n",
              "      <td>user10658</td>\n",
              "      <td>Product10</td>\n",
              "      <td>refund</td>\n",
              "      <td>NaN</td>\n",
              "      <td>2022-05-28 06:21:00</td>\n",
              "      <td>2022-06-21</td>\n",
              "      <td>Direct</td>\n",
              "      <td>999.00</td>\n",
              "      <td>paylater</td>\n",
              "      <td>INR</td>\n",
              "      <td>NaN</td>\n",
              "    </tr>\n",
              "  </tbody>\n",
              "</table>\n",
              "</div>\n",
              "      <button class=\"colab-df-convert\" onclick=\"convertToInteractive('df-d27883cd-1c97-4d7c-9d95-0d0aab4fce91')\"\n",
              "              title=\"Convert this dataframe to an interactive table.\"\n",
              "              style=\"display:none;\">\n",
              "        \n",
              "  <svg xmlns=\"http://www.w3.org/2000/svg\" height=\"24px\"viewBox=\"0 0 24 24\"\n",
              "       width=\"24px\">\n",
              "    <path d=\"M0 0h24v24H0V0z\" fill=\"none\"/>\n",
              "    <path d=\"M18.56 5.44l.94 2.06.94-2.06 2.06-.94-2.06-.94-.94-2.06-.94 2.06-2.06.94zm-11 1L8.5 8.5l.94-2.06 2.06-.94-2.06-.94L8.5 2.5l-.94 2.06-2.06.94zm10 10l.94 2.06.94-2.06 2.06-.94-2.06-.94-.94-2.06-.94 2.06-2.06.94z\"/><path d=\"M17.41 7.96l-1.37-1.37c-.4-.4-.92-.59-1.43-.59-.52 0-1.04.2-1.43.59L10.3 9.45l-7.72 7.72c-.78.78-.78 2.05 0 2.83L4 21.41c.39.39.9.59 1.41.59.51 0 1.02-.2 1.41-.59l7.78-7.78 2.81-2.81c.8-.78.8-2.07 0-2.86zM5.41 20L4 18.59l7.72-7.72 1.47 1.35L5.41 20z\"/>\n",
              "  </svg>\n",
              "      </button>\n",
              "      \n",
              "  <style>\n",
              "    .colab-df-container {\n",
              "      display:flex;\n",
              "      flex-wrap:wrap;\n",
              "      gap: 12px;\n",
              "    }\n",
              "\n",
              "    .colab-df-convert {\n",
              "      background-color: #E8F0FE;\n",
              "      border: none;\n",
              "      border-radius: 50%;\n",
              "      cursor: pointer;\n",
              "      display: none;\n",
              "      fill: #1967D2;\n",
              "      height: 32px;\n",
              "      padding: 0 0 0 0;\n",
              "      width: 32px;\n",
              "    }\n",
              "\n",
              "    .colab-df-convert:hover {\n",
              "      background-color: #E2EBFA;\n",
              "      box-shadow: 0px 1px 2px rgba(60, 64, 67, 0.3), 0px 1px 3px 1px rgba(60, 64, 67, 0.15);\n",
              "      fill: #174EA6;\n",
              "    }\n",
              "\n",
              "    [theme=dark] .colab-df-convert {\n",
              "      background-color: #3B4455;\n",
              "      fill: #D2E3FC;\n",
              "    }\n",
              "\n",
              "    [theme=dark] .colab-df-convert:hover {\n",
              "      background-color: #434B5C;\n",
              "      box-shadow: 0px 1px 3px 1px rgba(0, 0, 0, 0.15);\n",
              "      filter: drop-shadow(0px 1px 2px rgba(0, 0, 0, 0.3));\n",
              "      fill: #FFFFFF;\n",
              "    }\n",
              "  </style>\n",
              "\n",
              "      <script>\n",
              "        const buttonEl =\n",
              "          document.querySelector('#df-d27883cd-1c97-4d7c-9d95-0d0aab4fce91 button.colab-df-convert');\n",
              "        buttonEl.style.display =\n",
              "          google.colab.kernel.accessAllowed ? 'block' : 'none';\n",
              "\n",
              "        async function convertToInteractive(key) {\n",
              "          const element = document.querySelector('#df-d27883cd-1c97-4d7c-9d95-0d0aab4fce91');\n",
              "          const dataTable =\n",
              "            await google.colab.kernel.invokeFunction('convertToInteractive',\n",
              "                                                     [key], {});\n",
              "          if (!dataTable) return;\n",
              "\n",
              "          const docLinkHtml = 'Like what you see? Visit the ' +\n",
              "            '<a target=\"_blank\" href=https://colab.research.google.com/notebooks/data_table.ipynb>data table notebook</a>'\n",
              "            + ' to learn more about interactive tables.';\n",
              "          element.innerHTML = '';\n",
              "          dataTable['output_type'] = 'display_data';\n",
              "          await google.colab.output.renderOutput(dataTable, element);\n",
              "          const docLink = document.createElement('div');\n",
              "          docLink.innerHTML = docLinkHtml;\n",
              "          element.appendChild(docLink);\n",
              "        }\n",
              "      </script>\n",
              "    </div>\n",
              "  </div>\n",
              "  "
            ]
          },
          "metadata": {},
          "execution_count": 10
        }
      ]
    },
    {
      "cell_type": "markdown",
      "source": [
        "GETTING KNOW ABOUT DATSET SHAPE & COLUMNS"
      ],
      "metadata": {
        "id": "OKrgJqX7IRIx"
      }
    },
    {
      "cell_type": "code",
      "source": [
        "sales.shape"
      ],
      "metadata": {
        "colab": {
          "base_uri": "https://localhost:8080/"
        },
        "id": "InW2nHTtIL-s",
        "outputId": "9f99115f-f2df-4b0e-b131-af7fe067b250"
      },
      "execution_count": null,
      "outputs": [
        {
          "output_type": "execute_result",
          "data": {
            "text/plain": [
              "(9514, 11)"
            ]
          },
          "metadata": {},
          "execution_count": 12
        }
      ]
    },
    {
      "cell_type": "code",
      "source": [
        "for columns in sales.columns:\n",
        "        print(columns)"
      ],
      "metadata": {
        "colab": {
          "base_uri": "https://localhost:8080/"
        },
        "id": "7hvVKwvBJkq0",
        "outputId": "3d1e6c9f-908f-44f3-c1cc-a3d30f2a545d"
      },
      "execution_count": null,
      "outputs": [
        {
          "output_type": "stream",
          "name": "stdout",
          "text": [
            "User ID\n",
            "Product Code\n",
            "Payment Status\n",
            "Coupon code\n",
            "Lead Registered Time\n",
            "Sales Date\n",
            "Source\n",
            "Product Amount with GST\n",
            "Payment Mode\n",
            "Currency  Code\n",
            "Transaction Bank\n"
          ]
        }
      ]
    },
    {
      "cell_type": "markdown",
      "source": [
        "GET INFORMATIONS ABOUT DATASET"
      ],
      "metadata": {
        "id": "nyv1YW7MJ0w1"
      }
    },
    {
      "cell_type": "code",
      "source": [
        "sales.info()"
      ],
      "metadata": {
        "colab": {
          "base_uri": "https://localhost:8080/"
        },
        "id": "FONTcZdPJmFF",
        "outputId": "a9d5c0a7-8861-43f8-fb2a-af5138e16556"
      },
      "execution_count": null,
      "outputs": [
        {
          "output_type": "stream",
          "name": "stdout",
          "text": [
            "<class 'pandas.core.frame.DataFrame'>\n",
            "RangeIndex: 9514 entries, 0 to 9513\n",
            "Data columns (total 11 columns):\n",
            " #   Column                   Non-Null Count  Dtype         \n",
            "---  ------                   --------------  -----         \n",
            " 0   User ID                  9514 non-null   object        \n",
            " 1   Product Code             9514 non-null   object        \n",
            " 2   Payment Status           9514 non-null   object        \n",
            " 3   Coupon code              662 non-null    object        \n",
            " 4   Lead Registered Time     9514 non-null   datetime64[ns]\n",
            " 5   Sales Date               9514 non-null   datetime64[ns]\n",
            " 6   Source                   9514 non-null   object        \n",
            " 7   Product Amount with GST  9513 non-null   float64       \n",
            " 8   Payment Mode             1730 non-null   object        \n",
            " 9   Currency  Code           9514 non-null   object        \n",
            " 10  Transaction Bank         92 non-null     object        \n",
            "dtypes: datetime64[ns](2), float64(1), object(8)\n",
            "memory usage: 817.7+ KB\n"
          ]
        }
      ]
    },
    {
      "cell_type": "markdown",
      "source": [
        "DATA CLEANING"
      ],
      "metadata": {
        "id": "zegC1x1cKRkj"
      }
    },
    {
      "cell_type": "code",
      "source": [
        "sales.isnull().sum()"
      ],
      "metadata": {
        "colab": {
          "base_uri": "https://localhost:8080/"
        },
        "id": "e1xQrHluKOrI",
        "outputId": "a0b14d52-b43f-490c-fcff-3b03efcf61f1"
      },
      "execution_count": null,
      "outputs": [
        {
          "output_type": "execute_result",
          "data": {
            "text/plain": [
              "User ID                       0\n",
              "Product Code                  0\n",
              "Payment Status                0\n",
              "Coupon code                8852\n",
              "Lead Registered Time          0\n",
              "Sales Date                    0\n",
              "Source                        0\n",
              "Product Amount with GST       1\n",
              "Payment Mode               7784\n",
              "Currency  Code                0\n",
              "Transaction Bank           9422\n",
              "dtype: int64"
            ]
          },
          "metadata": {},
          "execution_count": 16
        }
      ]
    },
    {
      "cell_type": "code",
      "source": [
        "sales.info()"
      ],
      "metadata": {
        "colab": {
          "base_uri": "https://localhost:8080/"
        },
        "id": "5UtbuKnrKbOg",
        "outputId": "1a889009-405b-467e-c373-12e002a8e0a2"
      },
      "execution_count": null,
      "outputs": [
        {
          "output_type": "stream",
          "name": "stdout",
          "text": [
            "<class 'pandas.core.frame.DataFrame'>\n",
            "RangeIndex: 9514 entries, 0 to 9513\n",
            "Data columns (total 11 columns):\n",
            " #   Column                   Non-Null Count  Dtype         \n",
            "---  ------                   --------------  -----         \n",
            " 0   User ID                  9514 non-null   object        \n",
            " 1   Product Code             9514 non-null   object        \n",
            " 2   Payment Status           9514 non-null   object        \n",
            " 3   Coupon code              662 non-null    object        \n",
            " 4   Lead Registered Time     9514 non-null   datetime64[ns]\n",
            " 5   Sales Date               9514 non-null   datetime64[ns]\n",
            " 6   Source                   9514 non-null   object        \n",
            " 7   Product Amount with GST  9513 non-null   float64       \n",
            " 8   Payment Mode             1730 non-null   object        \n",
            " 9   Currency  Code           9514 non-null   object        \n",
            " 10  Transaction Bank         92 non-null     object        \n",
            "dtypes: datetime64[ns](2), float64(1), object(8)\n",
            "memory usage: 817.7+ KB\n"
          ]
        }
      ]
    },
    {
      "cell_type": "code",
      "source": [
        "sales.isna().sum()"
      ],
      "metadata": {
        "colab": {
          "base_uri": "https://localhost:8080/"
        },
        "id": "tnJkn4FCM2oc",
        "outputId": "f87ee593-8fff-4223-d337-2ff4e99e2f34"
      },
      "execution_count": null,
      "outputs": [
        {
          "output_type": "execute_result",
          "data": {
            "text/plain": [
              "User ID                       0\n",
              "Product Code                  0\n",
              "Payment Status                0\n",
              "Coupon code                8852\n",
              "Lead Registered Time          0\n",
              "Sales Date                    0\n",
              "Source                        0\n",
              "Product Amount with GST       1\n",
              "Payment Mode               7784\n",
              "Currency  Code                0\n",
              "Transaction Bank           9422\n",
              "month_year                    0\n",
              "dtype: int64"
            ]
          },
          "metadata": {},
          "execution_count": 24
        }
      ]
    },
    {
      "cell_type": "code",
      "source": [
        "data1 = sales.rename(columns={'Product Amount with GST': 'Product_amount'})"
      ],
      "metadata": {
        "id": "OyYcZRfmM6wg"
      },
      "execution_count": null,
      "outputs": []
    },
    {
      "cell_type": "code",
      "source": [
        "data1['Product_amount'] = data1['Product_amount'].fillna(0)"
      ],
      "metadata": {
        "id": "otbAWL7EPnyL"
      },
      "execution_count": null,
      "outputs": []
    },
    {
      "cell_type": "code",
      "source": [
        "data1"
      ],
      "metadata": {
        "colab": {
          "base_uri": "https://localhost:8080/",
          "height": 485
        },
        "id": "t4FRWV91M_ml",
        "outputId": "2355bdbe-4197-4330-da0f-39fa2ee57dd6"
      },
      "execution_count": null,
      "outputs": [
        {
          "output_type": "execute_result",
          "data": {
            "text/plain": [
              "        User ID Product Code Payment Status Coupon code Lead Registered Time  \\\n",
              "0         user1     Product1      Initiated         NaN  2022-08-01 04:55:00   \n",
              "1         user2     Product2      Initiated         NaN  2022-08-01 04:46:00   \n",
              "2         user4     Product3      Initiated         NaN  2022-08-01 03:21:00   \n",
              "3         user6     Product3      Initiated         NaN  2022-08-01 00:56:00   \n",
              "4         user8     Product4      Initiated         NaN  2022-08-01 00:46:00   \n",
              "...         ...          ...            ...         ...                  ...   \n",
              "9509   user7253   Product105           paid    Coupon94  2022-06-01 14:46:00   \n",
              "9510   user7253   Product105           paid         NaN  2022-06-01 12:36:00   \n",
              "9511   user7253   Product105           paid         NaN  2022-06-01 12:31:00   \n",
              "9512  user10657     Product2           paid         NaN  2022-06-01 07:20:00   \n",
              "9513  user10658    Product10         refund         NaN  2022-05-28 06:21:00   \n",
              "\n",
              "     Sales Date  Source  Product_amount Payment Mode Currency  Code  \\\n",
              "0    2022-07-31  Direct         3999.00          NaN            INR   \n",
              "1    2022-07-31  Direct          999.00          NaN            INR   \n",
              "2    2022-07-31  Direct         1999.00          NaN            INR   \n",
              "3    2022-07-31  Direct         1999.00          NaN            INR   \n",
              "4    2022-07-31  Direct         2022.00          NaN            INR   \n",
              "...         ...     ...             ...          ...            ...   \n",
              "9509 2022-06-01  Direct            7.92         card            INR   \n",
              "9510 2022-06-01  Direct            8.10         card            INR   \n",
              "9511 2022-06-01  Direct            7.92         card            INR   \n",
              "9512 2022-06-01  Direct          999.00     paylater            INR   \n",
              "9513 2022-06-21  Direct          999.00     paylater            INR   \n",
              "\n",
              "     Transaction Bank  month_year  \n",
              "0                 NaN  2022-07-31  \n",
              "1                 NaN  2022-07-31  \n",
              "2                 NaN  2022-07-31  \n",
              "3                 NaN  2022-07-31  \n",
              "4                 NaN  2022-07-31  \n",
              "...               ...         ...  \n",
              "9509              NaN  2022-06-01  \n",
              "9510              NaN  2022-06-01  \n",
              "9511              NaN  2022-06-01  \n",
              "9512              NaN  2022-06-01  \n",
              "9513              NaN  2022-06-21  \n",
              "\n",
              "[9514 rows x 12 columns]"
            ],
            "text/html": [
              "\n",
              "  <div id=\"df-bb1dee2b-a0da-4208-89c5-c1132df0025a\">\n",
              "    <div class=\"colab-df-container\">\n",
              "      <div>\n",
              "<style scoped>\n",
              "    .dataframe tbody tr th:only-of-type {\n",
              "        vertical-align: middle;\n",
              "    }\n",
              "\n",
              "    .dataframe tbody tr th {\n",
              "        vertical-align: top;\n",
              "    }\n",
              "\n",
              "    .dataframe thead th {\n",
              "        text-align: right;\n",
              "    }\n",
              "</style>\n",
              "<table border=\"1\" class=\"dataframe\">\n",
              "  <thead>\n",
              "    <tr style=\"text-align: right;\">\n",
              "      <th></th>\n",
              "      <th>User ID</th>\n",
              "      <th>Product Code</th>\n",
              "      <th>Payment Status</th>\n",
              "      <th>Coupon code</th>\n",
              "      <th>Lead Registered Time</th>\n",
              "      <th>Sales Date</th>\n",
              "      <th>Source</th>\n",
              "      <th>Product_amount</th>\n",
              "      <th>Payment Mode</th>\n",
              "      <th>Currency  Code</th>\n",
              "      <th>Transaction Bank</th>\n",
              "      <th>month_year</th>\n",
              "    </tr>\n",
              "  </thead>\n",
              "  <tbody>\n",
              "    <tr>\n",
              "      <th>0</th>\n",
              "      <td>user1</td>\n",
              "      <td>Product1</td>\n",
              "      <td>Initiated</td>\n",
              "      <td>NaN</td>\n",
              "      <td>2022-08-01 04:55:00</td>\n",
              "      <td>2022-07-31</td>\n",
              "      <td>Direct</td>\n",
              "      <td>3999.00</td>\n",
              "      <td>NaN</td>\n",
              "      <td>INR</td>\n",
              "      <td>NaN</td>\n",
              "      <td>2022-07-31</td>\n",
              "    </tr>\n",
              "    <tr>\n",
              "      <th>1</th>\n",
              "      <td>user2</td>\n",
              "      <td>Product2</td>\n",
              "      <td>Initiated</td>\n",
              "      <td>NaN</td>\n",
              "      <td>2022-08-01 04:46:00</td>\n",
              "      <td>2022-07-31</td>\n",
              "      <td>Direct</td>\n",
              "      <td>999.00</td>\n",
              "      <td>NaN</td>\n",
              "      <td>INR</td>\n",
              "      <td>NaN</td>\n",
              "      <td>2022-07-31</td>\n",
              "    </tr>\n",
              "    <tr>\n",
              "      <th>2</th>\n",
              "      <td>user4</td>\n",
              "      <td>Product3</td>\n",
              "      <td>Initiated</td>\n",
              "      <td>NaN</td>\n",
              "      <td>2022-08-01 03:21:00</td>\n",
              "      <td>2022-07-31</td>\n",
              "      <td>Direct</td>\n",
              "      <td>1999.00</td>\n",
              "      <td>NaN</td>\n",
              "      <td>INR</td>\n",
              "      <td>NaN</td>\n",
              "      <td>2022-07-31</td>\n",
              "    </tr>\n",
              "    <tr>\n",
              "      <th>3</th>\n",
              "      <td>user6</td>\n",
              "      <td>Product3</td>\n",
              "      <td>Initiated</td>\n",
              "      <td>NaN</td>\n",
              "      <td>2022-08-01 00:56:00</td>\n",
              "      <td>2022-07-31</td>\n",
              "      <td>Direct</td>\n",
              "      <td>1999.00</td>\n",
              "      <td>NaN</td>\n",
              "      <td>INR</td>\n",
              "      <td>NaN</td>\n",
              "      <td>2022-07-31</td>\n",
              "    </tr>\n",
              "    <tr>\n",
              "      <th>4</th>\n",
              "      <td>user8</td>\n",
              "      <td>Product4</td>\n",
              "      <td>Initiated</td>\n",
              "      <td>NaN</td>\n",
              "      <td>2022-08-01 00:46:00</td>\n",
              "      <td>2022-07-31</td>\n",
              "      <td>Direct</td>\n",
              "      <td>2022.00</td>\n",
              "      <td>NaN</td>\n",
              "      <td>INR</td>\n",
              "      <td>NaN</td>\n",
              "      <td>2022-07-31</td>\n",
              "    </tr>\n",
              "    <tr>\n",
              "      <th>...</th>\n",
              "      <td>...</td>\n",
              "      <td>...</td>\n",
              "      <td>...</td>\n",
              "      <td>...</td>\n",
              "      <td>...</td>\n",
              "      <td>...</td>\n",
              "      <td>...</td>\n",
              "      <td>...</td>\n",
              "      <td>...</td>\n",
              "      <td>...</td>\n",
              "      <td>...</td>\n",
              "      <td>...</td>\n",
              "    </tr>\n",
              "    <tr>\n",
              "      <th>9509</th>\n",
              "      <td>user7253</td>\n",
              "      <td>Product105</td>\n",
              "      <td>paid</td>\n",
              "      <td>Coupon94</td>\n",
              "      <td>2022-06-01 14:46:00</td>\n",
              "      <td>2022-06-01</td>\n",
              "      <td>Direct</td>\n",
              "      <td>7.92</td>\n",
              "      <td>card</td>\n",
              "      <td>INR</td>\n",
              "      <td>NaN</td>\n",
              "      <td>2022-06-01</td>\n",
              "    </tr>\n",
              "    <tr>\n",
              "      <th>9510</th>\n",
              "      <td>user7253</td>\n",
              "      <td>Product105</td>\n",
              "      <td>paid</td>\n",
              "      <td>NaN</td>\n",
              "      <td>2022-06-01 12:36:00</td>\n",
              "      <td>2022-06-01</td>\n",
              "      <td>Direct</td>\n",
              "      <td>8.10</td>\n",
              "      <td>card</td>\n",
              "      <td>INR</td>\n",
              "      <td>NaN</td>\n",
              "      <td>2022-06-01</td>\n",
              "    </tr>\n",
              "    <tr>\n",
              "      <th>9511</th>\n",
              "      <td>user7253</td>\n",
              "      <td>Product105</td>\n",
              "      <td>paid</td>\n",
              "      <td>NaN</td>\n",
              "      <td>2022-06-01 12:31:00</td>\n",
              "      <td>2022-06-01</td>\n",
              "      <td>Direct</td>\n",
              "      <td>7.92</td>\n",
              "      <td>card</td>\n",
              "      <td>INR</td>\n",
              "      <td>NaN</td>\n",
              "      <td>2022-06-01</td>\n",
              "    </tr>\n",
              "    <tr>\n",
              "      <th>9512</th>\n",
              "      <td>user10657</td>\n",
              "      <td>Product2</td>\n",
              "      <td>paid</td>\n",
              "      <td>NaN</td>\n",
              "      <td>2022-06-01 07:20:00</td>\n",
              "      <td>2022-06-01</td>\n",
              "      <td>Direct</td>\n",
              "      <td>999.00</td>\n",
              "      <td>paylater</td>\n",
              "      <td>INR</td>\n",
              "      <td>NaN</td>\n",
              "      <td>2022-06-01</td>\n",
              "    </tr>\n",
              "    <tr>\n",
              "      <th>9513</th>\n",
              "      <td>user10658</td>\n",
              "      <td>Product10</td>\n",
              "      <td>refund</td>\n",
              "      <td>NaN</td>\n",
              "      <td>2022-05-28 06:21:00</td>\n",
              "      <td>2022-06-21</td>\n",
              "      <td>Direct</td>\n",
              "      <td>999.00</td>\n",
              "      <td>paylater</td>\n",
              "      <td>INR</td>\n",
              "      <td>NaN</td>\n",
              "      <td>2022-06-21</td>\n",
              "    </tr>\n",
              "  </tbody>\n",
              "</table>\n",
              "<p>9514 rows × 12 columns</p>\n",
              "</div>\n",
              "      <button class=\"colab-df-convert\" onclick=\"convertToInteractive('df-bb1dee2b-a0da-4208-89c5-c1132df0025a')\"\n",
              "              title=\"Convert this dataframe to an interactive table.\"\n",
              "              style=\"display:none;\">\n",
              "        \n",
              "  <svg xmlns=\"http://www.w3.org/2000/svg\" height=\"24px\"viewBox=\"0 0 24 24\"\n",
              "       width=\"24px\">\n",
              "    <path d=\"M0 0h24v24H0V0z\" fill=\"none\"/>\n",
              "    <path d=\"M18.56 5.44l.94 2.06.94-2.06 2.06-.94-2.06-.94-.94-2.06-.94 2.06-2.06.94zm-11 1L8.5 8.5l.94-2.06 2.06-.94-2.06-.94L8.5 2.5l-.94 2.06-2.06.94zm10 10l.94 2.06.94-2.06 2.06-.94-2.06-.94-.94-2.06-.94 2.06-2.06.94z\"/><path d=\"M17.41 7.96l-1.37-1.37c-.4-.4-.92-.59-1.43-.59-.52 0-1.04.2-1.43.59L10.3 9.45l-7.72 7.72c-.78.78-.78 2.05 0 2.83L4 21.41c.39.39.9.59 1.41.59.51 0 1.02-.2 1.41-.59l7.78-7.78 2.81-2.81c.8-.78.8-2.07 0-2.86zM5.41 20L4 18.59l7.72-7.72 1.47 1.35L5.41 20z\"/>\n",
              "  </svg>\n",
              "      </button>\n",
              "      \n",
              "  <style>\n",
              "    .colab-df-container {\n",
              "      display:flex;\n",
              "      flex-wrap:wrap;\n",
              "      gap: 12px;\n",
              "    }\n",
              "\n",
              "    .colab-df-convert {\n",
              "      background-color: #E8F0FE;\n",
              "      border: none;\n",
              "      border-radius: 50%;\n",
              "      cursor: pointer;\n",
              "      display: none;\n",
              "      fill: #1967D2;\n",
              "      height: 32px;\n",
              "      padding: 0 0 0 0;\n",
              "      width: 32px;\n",
              "    }\n",
              "\n",
              "    .colab-df-convert:hover {\n",
              "      background-color: #E2EBFA;\n",
              "      box-shadow: 0px 1px 2px rgba(60, 64, 67, 0.3), 0px 1px 3px 1px rgba(60, 64, 67, 0.15);\n",
              "      fill: #174EA6;\n",
              "    }\n",
              "\n",
              "    [theme=dark] .colab-df-convert {\n",
              "      background-color: #3B4455;\n",
              "      fill: #D2E3FC;\n",
              "    }\n",
              "\n",
              "    [theme=dark] .colab-df-convert:hover {\n",
              "      background-color: #434B5C;\n",
              "      box-shadow: 0px 1px 3px 1px rgba(0, 0, 0, 0.15);\n",
              "      filter: drop-shadow(0px 1px 2px rgba(0, 0, 0, 0.3));\n",
              "      fill: #FFFFFF;\n",
              "    }\n",
              "  </style>\n",
              "\n",
              "      <script>\n",
              "        const buttonEl =\n",
              "          document.querySelector('#df-bb1dee2b-a0da-4208-89c5-c1132df0025a button.colab-df-convert');\n",
              "        buttonEl.style.display =\n",
              "          google.colab.kernel.accessAllowed ? 'block' : 'none';\n",
              "\n",
              "        async function convertToInteractive(key) {\n",
              "          const element = document.querySelector('#df-bb1dee2b-a0da-4208-89c5-c1132df0025a');\n",
              "          const dataTable =\n",
              "            await google.colab.kernel.invokeFunction('convertToInteractive',\n",
              "                                                     [key], {});\n",
              "          if (!dataTable) return;\n",
              "\n",
              "          const docLinkHtml = 'Like what you see? Visit the ' +\n",
              "            '<a target=\"_blank\" href=https://colab.research.google.com/notebooks/data_table.ipynb>data table notebook</a>'\n",
              "            + ' to learn more about interactive tables.';\n",
              "          element.innerHTML = '';\n",
              "          dataTable['output_type'] = 'display_data';\n",
              "          await google.colab.output.renderOutput(dataTable, element);\n",
              "          const docLink = document.createElement('div');\n",
              "          docLink.innerHTML = docLinkHtml;\n",
              "          element.appendChild(docLink);\n",
              "        }\n",
              "      </script>\n",
              "    </div>\n",
              "  </div>\n",
              "  "
            ]
          },
          "metadata": {},
          "execution_count": 38
        }
      ]
    },
    {
      "cell_type": "code",
      "source": [
        "df=data1.dropna(axis=1)"
      ],
      "metadata": {
        "id": "TAsxJxETNNGR"
      },
      "execution_count": null,
      "outputs": []
    },
    {
      "cell_type": "code",
      "source": [
        "df"
      ],
      "metadata": {
        "colab": {
          "base_uri": "https://localhost:8080/",
          "height": 424
        },
        "id": "27hCUAUjNSM4",
        "outputId": "19f6e4e2-1286-4b9a-d7db-31425a8fc00e"
      },
      "execution_count": null,
      "outputs": [
        {
          "output_type": "execute_result",
          "data": {
            "text/plain": [
              "        User ID Product Code Payment Status Lead Registered Time Sales Date  \\\n",
              "0         user1     Product1      Initiated  2022-08-01 04:55:00 2022-07-31   \n",
              "1         user2     Product2      Initiated  2022-08-01 04:46:00 2022-07-31   \n",
              "2         user4     Product3      Initiated  2022-08-01 03:21:00 2022-07-31   \n",
              "3         user6     Product3      Initiated  2022-08-01 00:56:00 2022-07-31   \n",
              "4         user8     Product4      Initiated  2022-08-01 00:46:00 2022-07-31   \n",
              "...         ...          ...            ...                  ...        ...   \n",
              "9509   user7253   Product105           paid  2022-06-01 14:46:00 2022-06-01   \n",
              "9510   user7253   Product105           paid  2022-06-01 12:36:00 2022-06-01   \n",
              "9511   user7253   Product105           paid  2022-06-01 12:31:00 2022-06-01   \n",
              "9512  user10657     Product2           paid  2022-06-01 07:20:00 2022-06-01   \n",
              "9513  user10658    Product10         refund  2022-05-28 06:21:00 2022-06-21   \n",
              "\n",
              "      Source  Product_amount Currency  Code  month_year  \n",
              "0     Direct         3999.00            INR  2022-07-31  \n",
              "1     Direct          999.00            INR  2022-07-31  \n",
              "2     Direct         1999.00            INR  2022-07-31  \n",
              "3     Direct         1999.00            INR  2022-07-31  \n",
              "4     Direct         2022.00            INR  2022-07-31  \n",
              "...      ...             ...            ...         ...  \n",
              "9509  Direct            7.92            INR  2022-06-01  \n",
              "9510  Direct            8.10            INR  2022-06-01  \n",
              "9511  Direct            7.92            INR  2022-06-01  \n",
              "9512  Direct          999.00            INR  2022-06-01  \n",
              "9513  Direct          999.00            INR  2022-06-21  \n",
              "\n",
              "[9514 rows x 9 columns]"
            ],
            "text/html": [
              "\n",
              "  <div id=\"df-b47bdaf9-c88a-456b-b43e-80d8a2df85f2\">\n",
              "    <div class=\"colab-df-container\">\n",
              "      <div>\n",
              "<style scoped>\n",
              "    .dataframe tbody tr th:only-of-type {\n",
              "        vertical-align: middle;\n",
              "    }\n",
              "\n",
              "    .dataframe tbody tr th {\n",
              "        vertical-align: top;\n",
              "    }\n",
              "\n",
              "    .dataframe thead th {\n",
              "        text-align: right;\n",
              "    }\n",
              "</style>\n",
              "<table border=\"1\" class=\"dataframe\">\n",
              "  <thead>\n",
              "    <tr style=\"text-align: right;\">\n",
              "      <th></th>\n",
              "      <th>User ID</th>\n",
              "      <th>Product Code</th>\n",
              "      <th>Payment Status</th>\n",
              "      <th>Lead Registered Time</th>\n",
              "      <th>Sales Date</th>\n",
              "      <th>Source</th>\n",
              "      <th>Product_amount</th>\n",
              "      <th>Currency  Code</th>\n",
              "      <th>month_year</th>\n",
              "    </tr>\n",
              "  </thead>\n",
              "  <tbody>\n",
              "    <tr>\n",
              "      <th>0</th>\n",
              "      <td>user1</td>\n",
              "      <td>Product1</td>\n",
              "      <td>Initiated</td>\n",
              "      <td>2022-08-01 04:55:00</td>\n",
              "      <td>2022-07-31</td>\n",
              "      <td>Direct</td>\n",
              "      <td>3999.00</td>\n",
              "      <td>INR</td>\n",
              "      <td>2022-07-31</td>\n",
              "    </tr>\n",
              "    <tr>\n",
              "      <th>1</th>\n",
              "      <td>user2</td>\n",
              "      <td>Product2</td>\n",
              "      <td>Initiated</td>\n",
              "      <td>2022-08-01 04:46:00</td>\n",
              "      <td>2022-07-31</td>\n",
              "      <td>Direct</td>\n",
              "      <td>999.00</td>\n",
              "      <td>INR</td>\n",
              "      <td>2022-07-31</td>\n",
              "    </tr>\n",
              "    <tr>\n",
              "      <th>2</th>\n",
              "      <td>user4</td>\n",
              "      <td>Product3</td>\n",
              "      <td>Initiated</td>\n",
              "      <td>2022-08-01 03:21:00</td>\n",
              "      <td>2022-07-31</td>\n",
              "      <td>Direct</td>\n",
              "      <td>1999.00</td>\n",
              "      <td>INR</td>\n",
              "      <td>2022-07-31</td>\n",
              "    </tr>\n",
              "    <tr>\n",
              "      <th>3</th>\n",
              "      <td>user6</td>\n",
              "      <td>Product3</td>\n",
              "      <td>Initiated</td>\n",
              "      <td>2022-08-01 00:56:00</td>\n",
              "      <td>2022-07-31</td>\n",
              "      <td>Direct</td>\n",
              "      <td>1999.00</td>\n",
              "      <td>INR</td>\n",
              "      <td>2022-07-31</td>\n",
              "    </tr>\n",
              "    <tr>\n",
              "      <th>4</th>\n",
              "      <td>user8</td>\n",
              "      <td>Product4</td>\n",
              "      <td>Initiated</td>\n",
              "      <td>2022-08-01 00:46:00</td>\n",
              "      <td>2022-07-31</td>\n",
              "      <td>Direct</td>\n",
              "      <td>2022.00</td>\n",
              "      <td>INR</td>\n",
              "      <td>2022-07-31</td>\n",
              "    </tr>\n",
              "    <tr>\n",
              "      <th>...</th>\n",
              "      <td>...</td>\n",
              "      <td>...</td>\n",
              "      <td>...</td>\n",
              "      <td>...</td>\n",
              "      <td>...</td>\n",
              "      <td>...</td>\n",
              "      <td>...</td>\n",
              "      <td>...</td>\n",
              "      <td>...</td>\n",
              "    </tr>\n",
              "    <tr>\n",
              "      <th>9509</th>\n",
              "      <td>user7253</td>\n",
              "      <td>Product105</td>\n",
              "      <td>paid</td>\n",
              "      <td>2022-06-01 14:46:00</td>\n",
              "      <td>2022-06-01</td>\n",
              "      <td>Direct</td>\n",
              "      <td>7.92</td>\n",
              "      <td>INR</td>\n",
              "      <td>2022-06-01</td>\n",
              "    </tr>\n",
              "    <tr>\n",
              "      <th>9510</th>\n",
              "      <td>user7253</td>\n",
              "      <td>Product105</td>\n",
              "      <td>paid</td>\n",
              "      <td>2022-06-01 12:36:00</td>\n",
              "      <td>2022-06-01</td>\n",
              "      <td>Direct</td>\n",
              "      <td>8.10</td>\n",
              "      <td>INR</td>\n",
              "      <td>2022-06-01</td>\n",
              "    </tr>\n",
              "    <tr>\n",
              "      <th>9511</th>\n",
              "      <td>user7253</td>\n",
              "      <td>Product105</td>\n",
              "      <td>paid</td>\n",
              "      <td>2022-06-01 12:31:00</td>\n",
              "      <td>2022-06-01</td>\n",
              "      <td>Direct</td>\n",
              "      <td>7.92</td>\n",
              "      <td>INR</td>\n",
              "      <td>2022-06-01</td>\n",
              "    </tr>\n",
              "    <tr>\n",
              "      <th>9512</th>\n",
              "      <td>user10657</td>\n",
              "      <td>Product2</td>\n",
              "      <td>paid</td>\n",
              "      <td>2022-06-01 07:20:00</td>\n",
              "      <td>2022-06-01</td>\n",
              "      <td>Direct</td>\n",
              "      <td>999.00</td>\n",
              "      <td>INR</td>\n",
              "      <td>2022-06-01</td>\n",
              "    </tr>\n",
              "    <tr>\n",
              "      <th>9513</th>\n",
              "      <td>user10658</td>\n",
              "      <td>Product10</td>\n",
              "      <td>refund</td>\n",
              "      <td>2022-05-28 06:21:00</td>\n",
              "      <td>2022-06-21</td>\n",
              "      <td>Direct</td>\n",
              "      <td>999.00</td>\n",
              "      <td>INR</td>\n",
              "      <td>2022-06-21</td>\n",
              "    </tr>\n",
              "  </tbody>\n",
              "</table>\n",
              "<p>9514 rows × 9 columns</p>\n",
              "</div>\n",
              "      <button class=\"colab-df-convert\" onclick=\"convertToInteractive('df-b47bdaf9-c88a-456b-b43e-80d8a2df85f2')\"\n",
              "              title=\"Convert this dataframe to an interactive table.\"\n",
              "              style=\"display:none;\">\n",
              "        \n",
              "  <svg xmlns=\"http://www.w3.org/2000/svg\" height=\"24px\"viewBox=\"0 0 24 24\"\n",
              "       width=\"24px\">\n",
              "    <path d=\"M0 0h24v24H0V0z\" fill=\"none\"/>\n",
              "    <path d=\"M18.56 5.44l.94 2.06.94-2.06 2.06-.94-2.06-.94-.94-2.06-.94 2.06-2.06.94zm-11 1L8.5 8.5l.94-2.06 2.06-.94-2.06-.94L8.5 2.5l-.94 2.06-2.06.94zm10 10l.94 2.06.94-2.06 2.06-.94-2.06-.94-.94-2.06-.94 2.06-2.06.94z\"/><path d=\"M17.41 7.96l-1.37-1.37c-.4-.4-.92-.59-1.43-.59-.52 0-1.04.2-1.43.59L10.3 9.45l-7.72 7.72c-.78.78-.78 2.05 0 2.83L4 21.41c.39.39.9.59 1.41.59.51 0 1.02-.2 1.41-.59l7.78-7.78 2.81-2.81c.8-.78.8-2.07 0-2.86zM5.41 20L4 18.59l7.72-7.72 1.47 1.35L5.41 20z\"/>\n",
              "  </svg>\n",
              "      </button>\n",
              "      \n",
              "  <style>\n",
              "    .colab-df-container {\n",
              "      display:flex;\n",
              "      flex-wrap:wrap;\n",
              "      gap: 12px;\n",
              "    }\n",
              "\n",
              "    .colab-df-convert {\n",
              "      background-color: #E8F0FE;\n",
              "      border: none;\n",
              "      border-radius: 50%;\n",
              "      cursor: pointer;\n",
              "      display: none;\n",
              "      fill: #1967D2;\n",
              "      height: 32px;\n",
              "      padding: 0 0 0 0;\n",
              "      width: 32px;\n",
              "    }\n",
              "\n",
              "    .colab-df-convert:hover {\n",
              "      background-color: #E2EBFA;\n",
              "      box-shadow: 0px 1px 2px rgba(60, 64, 67, 0.3), 0px 1px 3px 1px rgba(60, 64, 67, 0.15);\n",
              "      fill: #174EA6;\n",
              "    }\n",
              "\n",
              "    [theme=dark] .colab-df-convert {\n",
              "      background-color: #3B4455;\n",
              "      fill: #D2E3FC;\n",
              "    }\n",
              "\n",
              "    [theme=dark] .colab-df-convert:hover {\n",
              "      background-color: #434B5C;\n",
              "      box-shadow: 0px 1px 3px 1px rgba(0, 0, 0, 0.15);\n",
              "      filter: drop-shadow(0px 1px 2px rgba(0, 0, 0, 0.3));\n",
              "      fill: #FFFFFF;\n",
              "    }\n",
              "  </style>\n",
              "\n",
              "      <script>\n",
              "        const buttonEl =\n",
              "          document.querySelector('#df-b47bdaf9-c88a-456b-b43e-80d8a2df85f2 button.colab-df-convert');\n",
              "        buttonEl.style.display =\n",
              "          google.colab.kernel.accessAllowed ? 'block' : 'none';\n",
              "\n",
              "        async function convertToInteractive(key) {\n",
              "          const element = document.querySelector('#df-b47bdaf9-c88a-456b-b43e-80d8a2df85f2');\n",
              "          const dataTable =\n",
              "            await google.colab.kernel.invokeFunction('convertToInteractive',\n",
              "                                                     [key], {});\n",
              "          if (!dataTable) return;\n",
              "\n",
              "          const docLinkHtml = 'Like what you see? Visit the ' +\n",
              "            '<a target=\"_blank\" href=https://colab.research.google.com/notebooks/data_table.ipynb>data table notebook</a>'\n",
              "            + ' to learn more about interactive tables.';\n",
              "          element.innerHTML = '';\n",
              "          dataTable['output_type'] = 'display_data';\n",
              "          await google.colab.output.renderOutput(dataTable, element);\n",
              "          const docLink = document.createElement('div');\n",
              "          docLink.innerHTML = docLinkHtml;\n",
              "          element.appendChild(docLink);\n",
              "        }\n",
              "      </script>\n",
              "    </div>\n",
              "  </div>\n",
              "  "
            ]
          },
          "metadata": {},
          "execution_count": 40
        }
      ]
    },
    {
      "cell_type": "code",
      "source": [
        "df.isnull().sum()"
      ],
      "metadata": {
        "colab": {
          "base_uri": "https://localhost:8080/"
        },
        "id": "1E-15FSoNrXP",
        "outputId": "157b986e-6ab8-458b-8466-de62d71ac6b8"
      },
      "execution_count": null,
      "outputs": [
        {
          "output_type": "execute_result",
          "data": {
            "text/plain": [
              "User ID                 0\n",
              "Product Code            0\n",
              "Payment Status          0\n",
              "Lead Registered Time    0\n",
              "Sales Date              0\n",
              "Source                  0\n",
              "Product_amount          0\n",
              "Currency  Code          0\n",
              "month_year              0\n",
              "dtype: int64"
            ]
          },
          "metadata": {},
          "execution_count": 41
        }
      ]
    },
    {
      "cell_type": "code",
      "source": [
        "df.columns"
      ],
      "metadata": {
        "colab": {
          "base_uri": "https://localhost:8080/"
        },
        "id": "I5KNwtsMN2bx",
        "outputId": "3f33362e-552d-4939-b90a-3a4254c90de2"
      },
      "execution_count": null,
      "outputs": [
        {
          "output_type": "execute_result",
          "data": {
            "text/plain": [
              "Index(['User ID', 'Product Code', 'Payment Status', 'Lead Registered Time',\n",
              "       'Sales Date', 'Source', 'Product_amount', 'Currency  Code',\n",
              "       'month_year'],\n",
              "      dtype='object')"
            ]
          },
          "metadata": {},
          "execution_count": 42
        }
      ]
    },
    {
      "cell_type": "code",
      "source": [
        "start_date = pd.to_datetime('2022-01-01')\n",
        "end_date = pd.to_datetime('2023-01-01')\n",
        "df1 = df[(df['Sales Date'] >= start_date) & (df['Sales Date'] < end_date)]"
      ],
      "metadata": {
        "id": "mhoUOuFhN6ka"
      },
      "execution_count": null,
      "outputs": []
    },
    {
      "cell_type": "markdown",
      "source": [
        "EXPLORATORY ANALYSIS"
      ],
      "metadata": {
        "id": "NePDDsxxO5P9"
      }
    },
    {
      "cell_type": "markdown",
      "source": [
        "Finding Overall sales"
      ],
      "metadata": {
        "id": "3BEoqFXHSM-F"
      }
    },
    {
      "cell_type": "code",
      "source": [
        "df1['month_year'] = df1['Sales Date'].apply(lambda x: x.strftime('%Y-%m-%d'))\n",
        "df1['month_year']"
      ],
      "metadata": {
        "colab": {
          "base_uri": "https://localhost:8080/"
        },
        "id": "NGo4mvKmO51X",
        "outputId": "65bc5ecb-901f-4b64-c73d-6ec3d178b5ea"
      },
      "execution_count": null,
      "outputs": [
        {
          "output_type": "execute_result",
          "data": {
            "text/plain": [
              "0       2022-07-31\n",
              "1       2022-07-31\n",
              "2       2022-07-31\n",
              "3       2022-07-31\n",
              "4       2022-07-31\n",
              "           ...    \n",
              "9509    2022-06-01\n",
              "9510    2022-06-01\n",
              "9511    2022-06-01\n",
              "9512    2022-06-01\n",
              "9513    2022-06-21\n",
              "Name: month_year, Length: 9514, dtype: object"
            ]
          },
          "metadata": {},
          "execution_count": 44
        }
      ]
    },
    {
      "cell_type": "code",
      "source": [
        "df_temp = df1.groupby('month_year').sum()['Product_amount'].reset_index()\n",
        "df_temp"
      ],
      "metadata": {
        "colab": {
          "base_uri": "https://localhost:8080/",
          "height": 424
        },
        "id": "9OURWudNMZKY",
        "outputId": "37280353-14a6-4710-8194-bc86c92216a3"
      },
      "execution_count": null,
      "outputs": [
        {
          "output_type": "execute_result",
          "data": {
            "text/plain": [
              "    month_year  Product_amount\n",
              "0   2022-06-01        15591.86\n",
              "1   2022-06-02        21717.00\n",
              "2   2022-06-03        23977.00\n",
              "3   2022-06-04        22032.00\n",
              "4   2022-06-05        25354.00\n",
              "..         ...             ...\n",
              "56  2022-07-27       237876.00\n",
              "57  2022-07-28       223191.00\n",
              "58  2022-07-29       194373.00\n",
              "59  2022-07-30       232279.00\n",
              "60  2022-07-31       229619.00\n",
              "\n",
              "[61 rows x 2 columns]"
            ],
            "text/html": [
              "\n",
              "  <div id=\"df-e4ff5f42-35b6-4d54-9b6a-232ef32babe2\">\n",
              "    <div class=\"colab-df-container\">\n",
              "      <div>\n",
              "<style scoped>\n",
              "    .dataframe tbody tr th:only-of-type {\n",
              "        vertical-align: middle;\n",
              "    }\n",
              "\n",
              "    .dataframe tbody tr th {\n",
              "        vertical-align: top;\n",
              "    }\n",
              "\n",
              "    .dataframe thead th {\n",
              "        text-align: right;\n",
              "    }\n",
              "</style>\n",
              "<table border=\"1\" class=\"dataframe\">\n",
              "  <thead>\n",
              "    <tr style=\"text-align: right;\">\n",
              "      <th></th>\n",
              "      <th>month_year</th>\n",
              "      <th>Product_amount</th>\n",
              "    </tr>\n",
              "  </thead>\n",
              "  <tbody>\n",
              "    <tr>\n",
              "      <th>0</th>\n",
              "      <td>2022-06-01</td>\n",
              "      <td>15591.86</td>\n",
              "    </tr>\n",
              "    <tr>\n",
              "      <th>1</th>\n",
              "      <td>2022-06-02</td>\n",
              "      <td>21717.00</td>\n",
              "    </tr>\n",
              "    <tr>\n",
              "      <th>2</th>\n",
              "      <td>2022-06-03</td>\n",
              "      <td>23977.00</td>\n",
              "    </tr>\n",
              "    <tr>\n",
              "      <th>3</th>\n",
              "      <td>2022-06-04</td>\n",
              "      <td>22032.00</td>\n",
              "    </tr>\n",
              "    <tr>\n",
              "      <th>4</th>\n",
              "      <td>2022-06-05</td>\n",
              "      <td>25354.00</td>\n",
              "    </tr>\n",
              "    <tr>\n",
              "      <th>...</th>\n",
              "      <td>...</td>\n",
              "      <td>...</td>\n",
              "    </tr>\n",
              "    <tr>\n",
              "      <th>56</th>\n",
              "      <td>2022-07-27</td>\n",
              "      <td>237876.00</td>\n",
              "    </tr>\n",
              "    <tr>\n",
              "      <th>57</th>\n",
              "      <td>2022-07-28</td>\n",
              "      <td>223191.00</td>\n",
              "    </tr>\n",
              "    <tr>\n",
              "      <th>58</th>\n",
              "      <td>2022-07-29</td>\n",
              "      <td>194373.00</td>\n",
              "    </tr>\n",
              "    <tr>\n",
              "      <th>59</th>\n",
              "      <td>2022-07-30</td>\n",
              "      <td>232279.00</td>\n",
              "    </tr>\n",
              "    <tr>\n",
              "      <th>60</th>\n",
              "      <td>2022-07-31</td>\n",
              "      <td>229619.00</td>\n",
              "    </tr>\n",
              "  </tbody>\n",
              "</table>\n",
              "<p>61 rows × 2 columns</p>\n",
              "</div>\n",
              "      <button class=\"colab-df-convert\" onclick=\"convertToInteractive('df-e4ff5f42-35b6-4d54-9b6a-232ef32babe2')\"\n",
              "              title=\"Convert this dataframe to an interactive table.\"\n",
              "              style=\"display:none;\">\n",
              "        \n",
              "  <svg xmlns=\"http://www.w3.org/2000/svg\" height=\"24px\"viewBox=\"0 0 24 24\"\n",
              "       width=\"24px\">\n",
              "    <path d=\"M0 0h24v24H0V0z\" fill=\"none\"/>\n",
              "    <path d=\"M18.56 5.44l.94 2.06.94-2.06 2.06-.94-2.06-.94-.94-2.06-.94 2.06-2.06.94zm-11 1L8.5 8.5l.94-2.06 2.06-.94-2.06-.94L8.5 2.5l-.94 2.06-2.06.94zm10 10l.94 2.06.94-2.06 2.06-.94-2.06-.94-.94-2.06-.94 2.06-2.06.94z\"/><path d=\"M17.41 7.96l-1.37-1.37c-.4-.4-.92-.59-1.43-.59-.52 0-1.04.2-1.43.59L10.3 9.45l-7.72 7.72c-.78.78-.78 2.05 0 2.83L4 21.41c.39.39.9.59 1.41.59.51 0 1.02-.2 1.41-.59l7.78-7.78 2.81-2.81c.8-.78.8-2.07 0-2.86zM5.41 20L4 18.59l7.72-7.72 1.47 1.35L5.41 20z\"/>\n",
              "  </svg>\n",
              "      </button>\n",
              "      \n",
              "  <style>\n",
              "    .colab-df-container {\n",
              "      display:flex;\n",
              "      flex-wrap:wrap;\n",
              "      gap: 12px;\n",
              "    }\n",
              "\n",
              "    .colab-df-convert {\n",
              "      background-color: #E8F0FE;\n",
              "      border: none;\n",
              "      border-radius: 50%;\n",
              "      cursor: pointer;\n",
              "      display: none;\n",
              "      fill: #1967D2;\n",
              "      height: 32px;\n",
              "      padding: 0 0 0 0;\n",
              "      width: 32px;\n",
              "    }\n",
              "\n",
              "    .colab-df-convert:hover {\n",
              "      background-color: #E2EBFA;\n",
              "      box-shadow: 0px 1px 2px rgba(60, 64, 67, 0.3), 0px 1px 3px 1px rgba(60, 64, 67, 0.15);\n",
              "      fill: #174EA6;\n",
              "    }\n",
              "\n",
              "    [theme=dark] .colab-df-convert {\n",
              "      background-color: #3B4455;\n",
              "      fill: #D2E3FC;\n",
              "    }\n",
              "\n",
              "    [theme=dark] .colab-df-convert:hover {\n",
              "      background-color: #434B5C;\n",
              "      box-shadow: 0px 1px 3px 1px rgba(0, 0, 0, 0.15);\n",
              "      filter: drop-shadow(0px 1px 2px rgba(0, 0, 0, 0.3));\n",
              "      fill: #FFFFFF;\n",
              "    }\n",
              "  </style>\n",
              "\n",
              "      <script>\n",
              "        const buttonEl =\n",
              "          document.querySelector('#df-e4ff5f42-35b6-4d54-9b6a-232ef32babe2 button.colab-df-convert');\n",
              "        buttonEl.style.display =\n",
              "          google.colab.kernel.accessAllowed ? 'block' : 'none';\n",
              "\n",
              "        async function convertToInteractive(key) {\n",
              "          const element = document.querySelector('#df-e4ff5f42-35b6-4d54-9b6a-232ef32babe2');\n",
              "          const dataTable =\n",
              "            await google.colab.kernel.invokeFunction('convertToInteractive',\n",
              "                                                     [key], {});\n",
              "          if (!dataTable) return;\n",
              "\n",
              "          const docLinkHtml = 'Like what you see? Visit the ' +\n",
              "            '<a target=\"_blank\" href=https://colab.research.google.com/notebooks/data_table.ipynb>data table notebook</a>'\n",
              "            + ' to learn more about interactive tables.';\n",
              "          element.innerHTML = '';\n",
              "          dataTable['output_type'] = 'display_data';\n",
              "          await google.colab.output.renderOutput(dataTable, element);\n",
              "          const docLink = document.createElement('div');\n",
              "          docLink.innerHTML = docLinkHtml;\n",
              "          element.appendChild(docLink);\n",
              "        }\n",
              "      </script>\n",
              "    </div>\n",
              "  </div>\n",
              "  "
            ]
          },
          "metadata": {},
          "execution_count": 46
        }
      ]
    },
    {
      "cell_type": "markdown",
      "source": [
        "VISUALIZE SALES "
      ],
      "metadata": {
        "id": "oPg3JDo-Qf9B"
      }
    },
    {
      "cell_type": "code",
      "source": [
        "plt.figure(figsize=(16, 8))\n",
        "plt.plot(df_temp['month_year'], df_temp['Product_amount'])\n",
        "plt.xticks(rotation='vertical', size=8)\n",
        "plt.show()"
      ],
      "metadata": {
        "colab": {
          "base_uri": "https://localhost:8080/",
          "height": 519
        },
        "id": "Q1Nwvxd6QEM4",
        "outputId": "5a5f7106-00fd-43f5-8c59-7a380b2f61bf"
      },
      "execution_count": null,
      "outputs": [
        {
          "output_type": "display_data",
          "data": {
            "text/plain": [
              "<Figure size 1152x576 with 1 Axes>"
            ],
            "image/png": "[encoded data removed]"
          },
          "metadata": {
            "needs_background": "light"
          }
        }
      ]
    },
    {
      "cell_type": "code",
      "source": [
        "plt.figure(figsize=(15,6))\n",
        "plt.bar(df_temp['month_year'],df_temp['Product_amount'])\n",
        "plt.xticks(rotation='vertical',size=8)\n",
        "plt.show()"
      ],
      "metadata": {
        "colab": {
          "base_uri": "https://localhost:8080/",
          "height": 411
        },
        "id": "jZc5KU-HQWOO",
        "outputId": "f25caf71-bb50-4db2-de8e-1334d0196271"
      },
      "execution_count": null,
      "outputs": [
        {
          "output_type": "display_data",
          "data": {
            "text/plain": [
              "<Figure size 1080x432 with 1 Axes>"
            ],
            "image/png": "[encoded data removed]"
          },
          "metadata": {
            "needs_background": "light"
          }
        }
      ]
    },
    {
      "cell_type": "markdown",
      "source": [
        "TOP 10 MOST EXPENSIVE PRODUCTS"
      ],
      "metadata": {
        "id": "XRWGiMogXKYa"
      }
    },
    {
      "cell_type": "code",
      "source": [
        "products_sales = pd.DataFrame(df.groupby('Product Code').sum()['Product_amount'])\n",
        "products_sales.sort_values('Product_amount',inplace=True, ascending=False)"
      ],
      "metadata": {
        "id": "cxbrH__BRzbB"
      },
      "execution_count": null,
      "outputs": []
    },
    {
      "cell_type": "code",
      "source": [
        "products_sales[:10]"
      ],
      "metadata": {
        "colab": {
          "base_uri": "https://localhost:8080/",
          "height": 394
        },
        "id": "PupV4ldBT1k3",
        "outputId": "a2487bca-9c82-46be-cff7-3ab0a2f21e98"
      },
      "execution_count": null,
      "outputs": [
        {
          "output_type": "execute_result",
          "data": {
            "text/plain": [
              "              Product_amount\n",
              "Product Code                \n",
              "Product1           3695029.2\n",
              "Product4           2035095.0\n",
              "Product3           1617387.0\n",
              "Product8           1411420.0\n",
              "Product5            944046.0\n",
              "Product2            417582.0\n",
              "Product10           359640.0\n",
              "Product9            356643.0\n",
              "Product18           351973.0\n",
              "Product19           347884.0"
            ],
            "text/html": [
              "\n",
              "  <div id=\"df-ff3fed47-6884-4d16-b50d-be718a7e8a8e\">\n",
              "    <div class=\"colab-df-container\">\n",
              "      <div>\n",
              "<style scoped>\n",
              "    .dataframe tbody tr th:only-of-type {\n",
              "        vertical-align: middle;\n",
              "    }\n",
              "\n",
              "    .dataframe tbody tr th {\n",
              "        vertical-align: top;\n",
              "    }\n",
              "\n",
              "    .dataframe thead th {\n",
              "        text-align: right;\n",
              "    }\n",
              "</style>\n",
              "<table border=\"1\" class=\"dataframe\">\n",
              "  <thead>\n",
              "    <tr style=\"text-align: right;\">\n",
              "      <th></th>\n",
              "      <th>Product_amount</th>\n",
              "    </tr>\n",
              "    <tr>\n",
              "      <th>Product Code</th>\n",
              "      <th></th>\n",
              "    </tr>\n",
              "  </thead>\n",
              "  <tbody>\n",
              "    <tr>\n",
              "      <th>Product1</th>\n",
              "      <td>3695029.2</td>\n",
              "    </tr>\n",
              "    <tr>\n",
              "      <th>Product4</th>\n",
              "      <td>2035095.0</td>\n",
              "    </tr>\n",
              "    <tr>\n",
              "      <th>Product3</th>\n",
              "      <td>1617387.0</td>\n",
              "    </tr>\n",
              "    <tr>\n",
              "      <th>Product8</th>\n",
              "      <td>1411420.0</td>\n",
              "    </tr>\n",
              "    <tr>\n",
              "      <th>Product5</th>\n",
              "      <td>944046.0</td>\n",
              "    </tr>\n",
              "    <tr>\n",
              "      <th>Product2</th>\n",
              "      <td>417582.0</td>\n",
              "    </tr>\n",
              "    <tr>\n",
              "      <th>Product10</th>\n",
              "      <td>359640.0</td>\n",
              "    </tr>\n",
              "    <tr>\n",
              "      <th>Product9</th>\n",
              "      <td>356643.0</td>\n",
              "    </tr>\n",
              "    <tr>\n",
              "      <th>Product18</th>\n",
              "      <td>351973.0</td>\n",
              "    </tr>\n",
              "    <tr>\n",
              "      <th>Product19</th>\n",
              "      <td>347884.0</td>\n",
              "    </tr>\n",
              "  </tbody>\n",
              "</table>\n",
              "</div>\n",
              "      <button class=\"colab-df-convert\" onclick=\"convertToInteractive('df-ff3fed47-6884-4d16-b50d-be718a7e8a8e')\"\n",
              "              title=\"Convert this dataframe to an interactive table.\"\n",
              "              style=\"display:none;\">\n",
              "        \n",
              "  <svg xmlns=\"http://www.w3.org/2000/svg\" height=\"24px\"viewBox=\"0 0 24 24\"\n",
              "       width=\"24px\">\n",
              "    <path d=\"M0 0h24v24H0V0z\" fill=\"none\"/>\n",
              "    <path d=\"M18.56 5.44l.94 2.06.94-2.06 2.06-.94-2.06-.94-.94-2.06-.94 2.06-2.06.94zm-11 1L8.5 8.5l.94-2.06 2.06-.94-2.06-.94L8.5 2.5l-.94 2.06-2.06.94zm10 10l.94 2.06.94-2.06 2.06-.94-2.06-.94-.94-2.06-.94 2.06-2.06.94z\"/><path d=\"M17.41 7.96l-1.37-1.37c-.4-.4-.92-.59-1.43-.59-.52 0-1.04.2-1.43.59L10.3 9.45l-7.72 7.72c-.78.78-.78 2.05 0 2.83L4 21.41c.39.39.9.59 1.41.59.51 0 1.02-.2 1.41-.59l7.78-7.78 2.81-2.81c.8-.78.8-2.07 0-2.86zM5.41 20L4 18.59l7.72-7.72 1.47 1.35L5.41 20z\"/>\n",
              "  </svg>\n",
              "      </button>\n",
              "      \n",
              "  <style>\n",
              "    .colab-df-container {\n",
              "      display:flex;\n",
              "      flex-wrap:wrap;\n",
              "      gap: 12px;\n",
              "    }\n",
              "\n",
              "    .colab-df-convert {\n",
              "      background-color: #E8F0FE;\n",
              "      border: none;\n",
              "      border-radius: 50%;\n",
              "      cursor: pointer;\n",
              "      display: none;\n",
              "      fill: #1967D2;\n",
              "      height: 32px;\n",
              "      padding: 0 0 0 0;\n",
              "      width: 32px;\n",
              "    }\n",
              "\n",
              "    .colab-df-convert:hover {\n",
              "      background-color: #E2EBFA;\n",
              "      box-shadow: 0px 1px 2px rgba(60, 64, 67, 0.3), 0px 1px 3px 1px rgba(60, 64, 67, 0.15);\n",
              "      fill: #174EA6;\n",
              "    }\n",
              "\n",
              "    [theme=dark] .colab-df-convert {\n",
              "      background-color: #3B4455;\n",
              "      fill: #D2E3FC;\n",
              "    }\n",
              "\n",
              "    [theme=dark] .colab-df-convert:hover {\n",
              "      background-color: #434B5C;\n",
              "      box-shadow: 0px 1px 3px 1px rgba(0, 0, 0, 0.15);\n",
              "      filter: drop-shadow(0px 1px 2px rgba(0, 0, 0, 0.3));\n",
              "      fill: #FFFFFF;\n",
              "    }\n",
              "  </style>\n",
              "\n",
              "      <script>\n",
              "        const buttonEl =\n",
              "          document.querySelector('#df-ff3fed47-6884-4d16-b50d-be718a7e8a8e button.colab-df-convert');\n",
              "        buttonEl.style.display =\n",
              "          google.colab.kernel.accessAllowed ? 'block' : 'none';\n",
              "\n",
              "        async function convertToInteractive(key) {\n",
              "          const element = document.querySelector('#df-ff3fed47-6884-4d16-b50d-be718a7e8a8e');\n",
              "          const dataTable =\n",
              "            await google.colab.kernel.invokeFunction('convertToInteractive',\n",
              "                                                     [key], {});\n",
              "          if (!dataTable) return;\n",
              "\n",
              "          const docLinkHtml = 'Like what you see? Visit the ' +\n",
              "            '<a target=\"_blank\" href=https://colab.research.google.com/notebooks/data_table.ipynb>data table notebook</a>'\n",
              "            + ' to learn more about interactive tables.';\n",
              "          element.innerHTML = '';\n",
              "          dataTable['output_type'] = 'display_data';\n",
              "          await google.colab.output.renderOutput(dataTable, element);\n",
              "          const docLink = document.createElement('div');\n",
              "          docLink.innerHTML = docLinkHtml;\n",
              "          element.appendChild(docLink);\n",
              "        }\n",
              "      </script>\n",
              "    </div>\n",
              "  </div>\n",
              "  "
            ]
          },
          "metadata": {},
          "execution_count": 81
        }
      ]
    },
    {
      "cell_type": "markdown",
      "source": [
        "Visualization of top 10 expensive products"
      ],
      "metadata": {
        "id": "c_R5N6bIWPOO"
      }
    },
    {
      "cell_type": "code",
      "source": [
        "product_pivot = df.pivot_table(values='Product_amount', index='Product Code', aggfunc=np.sum)\n",
        "product_pivot.sort_values(by='Product_amount', ascending=False, inplace=True)\n",
        "plt.figure(figsize=(90,30))\n",
        "sns.barplot(x=product_pivot.index, y='Product_amount', data=product_pivot, palette='magma')\n",
        "plt.title('Total Product Amount by Product Code')\n",
        "plt.xlabel('Product Code')\n",
        "plt.ylabel('Total Product Amount')\n",
        "plt.show()"
      ],
      "metadata": {
        "colab": {
          "base_uri": "https://localhost:8080/",
          "height": 456
        },
        "id": "kEWyq4rXWFuD",
        "outputId": "59cae862-f64f-491d-fb0d-80f628b36d62"
      },
      "execution_count": null,
      "outputs": [
        {
          "output_type": "display_data",
          "data": {
            "text/plain": [
              "<Figure size 6480x2160 with 1 Axes>"
            ],
            "image/png": "[encoded data removed]"
          },
          "metadata": {
            "needs_background": "light"
          }
        }
      ]
    },
    {
      "cell_type": "markdown",
      "source": [
        "MOST SELLING PRODUCT"
      ],
      "metadata": {
        "id": "OOTEmvEkY4xW"
      }
    },
    {
      "cell_type": "code",
      "source": [
        "product_count = df.groupby('Product Code')['Product Code'].count()\n",
        "product_count = product_count.sort_values(ascending=False)\n",
        "print(\"Top 5 Most Sold Product Codes:\")\n",
        "print(product_count.head(5))"
      ],
      "metadata": {
        "colab": {
          "base_uri": "https://localhost:8080/"
        },
        "id": "2KSHWjKCXO54",
        "outputId": "ba736fc9-12b8-4e0d-ac80-ef79e5d9f04e"
      },
      "execution_count": null,
      "outputs": [
        {
          "output_type": "stream",
          "name": "stdout",
          "text": [
            "Top 5 Most Sold Product Codes:\n",
            "Product Code\n",
            "Product8    1560\n",
            "Product1    1272\n",
            "Product4    1020\n",
            "Product3     838\n",
            "Product5     504\n",
            "Name: Product Code, dtype: int64\n"
          ]
        }
      ]
    },
    {
      "cell_type": "markdown",
      "source": [
        "Visualization of most selling product"
      ],
      "metadata": {
        "id": "INt3q6SaY09y"
      }
    },
    {
      "cell_type": "code",
      "source": [
        "plt.figure(figsize=(90,30))\n",
        "sns.barplot(x=product_count.index, y=product_count.values, palette='magma')\n",
        "plt.title('Most Sold Product Codes')\n",
        "plt.xlabel('Product Code')\n",
        "plt.ylabel('Count')\n",
        "plt.show()"
      ],
      "metadata": {
        "colab": {
          "base_uri": "https://localhost:8080/",
          "height": 455
        },
        "id": "TaY1fjUuX-L9",
        "outputId": "14d19e6b-8d80-4337-d390-33fe57d5b548"
      },
      "execution_count": null,
      "outputs": [
        {
          "output_type": "display_data",
          "data": {
            "text/plain": [
              "<Figure size 6480x2160 with 1 Axes>"
            ],
            "image/png": "[encoded data removed]"
          },
          "metadata": {
            "needs_background": "light"
          }
        }
      ]
    },
    {
      "cell_type": "markdown",
      "source": [
        "VISUALIZE MOST USED SOURCE"
      ],
      "metadata": {
        "id": "7tA0gSvAVzIm"
      }
    },
    {
      "cell_type": "code",
      "source": [
        "plt.figure(figsize=(10,8.5))\n",
        "\n",
        "sns.countplot(sales['Source'])\n",
        "plt.show()"
      ],
      "metadata": {
        "colab": {
          "base_uri": "https://localhost:8080/",
          "height": 579
        },
        "id": "7n30pFQUVC0a",
        "outputId": "6e86488e-204d-40ea-e63d-af780942bafc"
      },
      "execution_count": null,
      "outputs": [
        {
          "output_type": "stream",
          "name": "stderr",
          "text": [
            "/usr/local/lib/python3.8/dist-packages/seaborn/_decorators.py:36: FutureWarning: Pass the following variable as a keyword arg: x. From version 0.12, the only valid positional argument will be `data`, and passing other arguments without an explicit keyword will result in an error or misinterpretation.\n",
            "  warnings.warn(\n"
          ]
        },
        {
          "output_type": "display_data",
          "data": {
            "text/plain": [
              "<Figure size 720x612 with 1 Axes>"
            ],
            "image/png": "[encoded data removed]"
          },
          "metadata": {
            "needs_background": "light"
          }
        }
      ]
    },
    {
      "cell_type": "markdown",
      "source": [
        "MOST USED CURRENCY"
      ],
      "metadata": {
        "id": "EiPNqT1kbHuv"
      }
    },
    {
      "cell_type": "code",
      "source": [
        "currency_count = df['Currency  Code'].value_counts()"
      ],
      "metadata": {
        "id": "ENFiZZ0GaBIp"
      },
      "execution_count": null,
      "outputs": []
    },
    {
      "cell_type": "code",
      "source": [
        "plt.figure(figsize=(8, 6))\n",
        "sns.barplot(x=currency_count.index, y=currency_count.values, palette='magma')\n",
        "plt.title('Number of Sales by Currency')\n",
        "plt.xlabel('Currency Code')\n",
        "plt.ylabel('Number of Sales')\n",
        "plt.show()"
      ],
      "metadata": {
        "colab": {
          "base_uri": "https://localhost:8080/",
          "height": 404
        },
        "id": "hANvKQX0aE4A",
        "outputId": "f889f9d6-6e98-4c33-e008-e2cd712c375e"
      },
      "execution_count": null,
      "outputs": [
        {
          "output_type": "display_data",
          "data": {
            "text/plain": [
              "<Figure size 576x432 with 1 Axes>"
            ],
            "image/png": "[encoded data removed]"
          },
          "metadata": {
            "needs_background": "light"
          }
        }
      ]
    },
    {
      "cell_type": "markdown",
      "source": [
        "MOST PROFITABLE PRODUCT"
      ],
      "metadata": {
        "id": "73hpA_A_bPuY"
      }
    },
    {
      "cell_type": "code",
      "source": [
        "profit_pivot = df.pivot_table(values='Product_amount', index='Product Code', aggfunc=np.sum)\n",
        "profit_pivot.sort_values(by='Product_amount', ascending=False, inplace=True)\n",
        "print(\"Most Profitable Category:\")\n",
        "print(profit_pivot.index[0])"
      ],
      "metadata": {
        "colab": {
          "base_uri": "https://localhost:8080/"
        },
        "id": "uM_IZojybPcg",
        "outputId": "860c11c2-ed07-44ce-85ad-4cf354b766b3"
      },
      "execution_count": 90,
      "outputs": [
        {
          "output_type": "stream",
          "name": "stdout",
          "text": [
            "Most Profitable Category:\n",
            "Product1\n"
          ]
        }
      ]
    },
    {
      "cell_type": "code",
      "source": [
        "plt.figure(figsize=(16,9))\n",
        "\n",
        "sns.countplot(sales['Product Code'])\n",
        "plt.show()"
      ],
      "metadata": {
        "colab": {
          "base_uri": "https://localhost:8080/",
          "height": 606
        },
        "id": "ZQJbjaM7bhN5",
        "outputId": "0ec5ee92-7698-4ab1-8bd6-38cec4596e71"
      },
      "execution_count": 91,
      "outputs": [
        {
          "output_type": "stream",
          "name": "stderr",
          "text": [
            "/usr/local/lib/python3.8/dist-packages/seaborn/_decorators.py:36: FutureWarning: Pass the following variable as a keyword arg: x. From version 0.12, the only valid positional argument will be `data`, and passing other arguments without an explicit keyword will result in an error or misinterpretation.\n",
            "  warnings.warn(\n"
          ]
        },
        {
          "output_type": "display_data",
          "data": {
            "text/plain": [
              "<Figure size 1152x648 with 1 Axes>"
            ],
            "image/png": "[encoded data removed]"
          },
          "metadata": {
            "needs_background": "light"
          }
        }
      ]
    }
  ]
}